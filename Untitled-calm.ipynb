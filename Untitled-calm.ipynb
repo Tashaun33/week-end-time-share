{
 "cells": [
  {
   "cell_type": "code",
   "execution_count": 2,
   "id": "eef9f8ad",
   "metadata": {},
   "outputs": [
    {
     "name": "stdout",
     "output_type": "stream",
     "text": [
      "[ 7  9 11 13 15]\n"
     ]
    }
   ],
   "source": [
    "import numpy as np\n",
    "np.array([1, 2, 3, 4, 5])\n",
    "np.array([6, 7, 8, 9, 10])\n",
    "print(np.array([1, 2, 3, 4, 5]) + np.array([6, 7, 8, 9, 10]))\n"
   ]
  },
  {
   "cell_type": "markdown",
   "id": "0e750ec9",
   "metadata": {},
   "source": [
    "yeah yeah just testing that all is well after i made a little clean up on my net bookmachine...\n",
    "Irie..."
   ]
  }
 ],
 "metadata": {
  "kernelspec": {
   "display_name": "Python 3",
   "language": "python",
   "name": "python3"
  },
  "language_info": {
   "codemirror_mode": {
    "name": "ipython",
    "version": 3
   },
   "file_extension": ".py",
   "mimetype": "text/x-python",
   "name": "python",
   "nbconvert_exporter": "python",
   "pygments_lexer": "ipython3",
   "version": "3.12.8"
  }
 },
 "nbformat": 4,
 "nbformat_minor": 5
}
